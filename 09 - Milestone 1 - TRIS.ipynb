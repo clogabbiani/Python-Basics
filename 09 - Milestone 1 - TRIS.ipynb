{
 "cells": [
  {
   "cell_type": "code",
   "execution_count": null,
   "metadata": {},
   "outputs": [],
   "source": [
    "#STEP 1: write a function to print a board where each index 1-9 \n",
    "#corresponds wit ha number on a number pad, s we get a 3-by-3 representation"
   ]
  },
  {
   "cell_type": "code",
   "execution_count": 2,
   "metadata": {},
   "outputs": [],
   "source": [
    "from IPython.display import clear_output\n",
    "\n",
    "def display_board(board):\n",
    "    clear_output()\n",
    "    print(board[1]+'|'+board[2]+'|'+board[3])\n",
    "    print('-----')\n",
    "    print(board[4]+'|'+board[5]+'|'+board[6])\n",
    "    print('-----')\n",
    "    print(board[7]+'|'+board[8]+'|'+board[9])"
   ]
  },
  {
   "cell_type": "code",
   "execution_count": null,
   "metadata": {},
   "outputs": [],
   "source": [
    "test_board=['#','X','O','X','O','X','O','X','O','X']\n",
    "display_board(test_board)"
   ]
  },
  {
   "cell_type": "code",
   "execution_count": null,
   "metadata": {},
   "outputs": [],
   "source": [
    "#how to clean up the board\n",
    "test_board=[' ']*10\n",
    "display_board(test_board)"
   ]
  },
  {
   "cell_type": "code",
   "execution_count": null,
   "metadata": {},
   "outputs": [],
   "source": [
    "#clear_output() let to update the version of the board"
   ]
  },
  {
   "cell_type": "code",
   "execution_count": null,
   "metadata": {},
   "outputs": [],
   "source": []
  },
  {
   "cell_type": "code",
   "execution_count": null,
   "metadata": {},
   "outputs": [],
   "source": [
    "#STEP 2: function that take the player input and assign their marker \n",
    "#as 'X' or 'O', use a while loop until the correct answer"
   ]
  },
  {
   "cell_type": "code",
   "execution_count": 3,
   "metadata": {},
   "outputs": [],
   "source": [
    "def player_input():\n",
    "    \n",
    "    '''\n",
    "    OUTPUT = (Player 1 marker, Player 2 marker)\n",
    "    '''\n",
    "    \n",
    "    marker=''\n",
    "    \n",
    "    #keep asking player 1 to choose X or o\n",
    "    while marker != 'X' and marker != 'O':\n",
    "        marker = input('Player 1, choose the marker you want to be between X and O: ').upper() \n",
    "    \n",
    "    #assign to player 2 the opposite marker\n",
    "    if marker == 'X':\n",
    "        return ('X','O')\n",
    "    else:\n",
    "        return('O','X')"
   ]
  },
  {
   "cell_type": "code",
   "execution_count": null,
   "metadata": {},
   "outputs": [],
   "source": [
    "player1_marker, player2_marker = player_input()"
   ]
  },
  {
   "cell_type": "code",
   "execution_count": null,
   "metadata": {},
   "outputs": [],
   "source": [
    "#STEP 3: funciton that takes in the board list object 'X' or 'O',\n",
    "#and a desired position (1-9) and assign it to the board"
   ]
  },
  {
   "cell_type": "code",
   "execution_count": 4,
   "metadata": {},
   "outputs": [],
   "source": [
    "def place_marker(board,marker,position):\n",
    "    board[position]=marker"
   ]
  },
  {
   "cell_type": "code",
   "execution_count": null,
   "metadata": {},
   "outputs": [],
   "source": [
    "len(test_board)"
   ]
  },
  {
   "cell_type": "code",
   "execution_count": null,
   "metadata": {},
   "outputs": [],
   "source": [
    "place_marker(test_board, '$', 8)\n",
    "display_board(test_board)"
   ]
  },
  {
   "cell_type": "code",
   "execution_count": null,
   "metadata": {},
   "outputs": [],
   "source": [
    "#STEP 4: write a function that takes in a board and a mark (X or O) \n",
    "#and checks to see if the mark has won"
   ]
  },
  {
   "cell_type": "code",
   "execution_count": 5,
   "metadata": {},
   "outputs": [],
   "source": [
    "def win_check(board,mark):\n",
    "    #check the possible combination of the win\n",
    "    result=''\n",
    "    #ALL ROWS\n",
    "    for r in range(1,len(board),3):\n",
    "        if board[r]==board[r+1]==board[r+2]==mark:\n",
    "            result='WIN'\n",
    "        \n",
    "    #ALL COLUMNS\n",
    "    for c in range(3):\n",
    "        if board[c]==board[c+3]==board[c+6]==mark:\n",
    "            result='WIN'\n",
    "        \n",
    "    #2 DIAGONAL\n",
    "    if (board[1]==board[5]==board[9]==mark) or (board[3]==board[5]==board[7]==mark):\n",
    "        result='WIN'\n",
    "    if result == 'WIN':\n",
    "        print(f'{mark} WIN')\n",
    "        return True\n",
    "    else:\n",
    "        print(f'{mark} NOT WIN')\n",
    "        return False"
   ]
  },
  {
   "cell_type": "code",
   "execution_count": null,
   "metadata": {},
   "outputs": [],
   "source": [
    "win_check(test_board, 'X')"
   ]
  },
  {
   "cell_type": "code",
   "execution_count": null,
   "metadata": {},
   "outputs": [],
   "source": [
    "win_check(test_board, 'O')"
   ]
  },
  {
   "cell_type": "code",
   "execution_count": null,
   "metadata": {},
   "outputs": [],
   "source": [
    "#STEP 5: function that uses a random module to randomly decide \n",
    "#whic player has to start, return a string of that player"
   ]
  },
  {
   "cell_type": "code",
   "execution_count": 6,
   "metadata": {},
   "outputs": [],
   "source": [
    "import random\n",
    "def choose_first():\n",
    "    flip = random.randint(0,1)\n",
    "    if flip == 0:\n",
    "        return 'Player 1'\n",
    "    else:\n",
    "        return 'Player 2'"
   ]
  },
  {
   "cell_type": "code",
   "execution_count": null,
   "metadata": {},
   "outputs": [],
   "source": [
    "choose_first()"
   ]
  },
  {
   "cell_type": "code",
   "execution_count": null,
   "metadata": {},
   "outputs": [],
   "source": [
    "#STEP 6: function that returns a boolena indicating whether \n",
    "#a space on the board is freely available"
   ]
  },
  {
   "cell_type": "code",
   "execution_count": 7,
   "metadata": {},
   "outputs": [],
   "source": [
    "def space_check(board, position):\n",
    "    return board[position]==' '"
   ]
  },
  {
   "cell_type": "code",
   "execution_count": null,
   "metadata": {},
   "outputs": [],
   "source": [
    "#STEP 7: function that checks if the board is full, boolean value"
   ]
  },
  {
   "cell_type": "code",
   "execution_count": 8,
   "metadata": {},
   "outputs": [],
   "source": [
    "def full_board_check(board):\n",
    "    res = True\n",
    "    for n in range(1,len(board)):\n",
    "        if board[n]==' ':\n",
    "            res = False\n",
    "    return res"
   ]
  },
  {
   "cell_type": "code",
   "execution_count": null,
   "metadata": {},
   "outputs": [],
   "source": [
    "full_board_check(test_board)"
   ]
  },
  {
   "cell_type": "code",
   "execution_count": null,
   "metadata": {},
   "outputs": [],
   "source": [
    "test_board2=['#','X','O','X','O','X','O',' ','O','X']\n",
    "full_board_check(test_board2)"
   ]
  },
  {
   "cell_type": "code",
   "execution_count": null,
   "metadata": {},
   "outputs": [],
   "source": [
    "#STEP 8: function that ast a player the postition, check if it's free and in case it return it"
   ]
  },
  {
   "cell_type": "code",
   "execution_count": 9,
   "metadata": {},
   "outputs": [],
   "source": [
    "def player_choice(board):\n",
    "    position = 0\n",
    "    while position not in [1,2,3,4,5,6,7,8,9] or not space_check(board,position):\n",
    "        position=int(input('Player chose the position of your next move (1-9): '))\n",
    "    return position"
   ]
  },
  {
   "cell_type": "code",
   "execution_count": null,
   "metadata": {},
   "outputs": [],
   "source": [
    "test_board=['#','X','O','X','O','X','O',' ','O','X']\n",
    "player_choice(test_board)"
   ]
  },
  {
   "cell_type": "code",
   "execution_count": null,
   "metadata": {},
   "outputs": [],
   "source": [
    "#STEP 9: function that aske the player if they want to play again and return Boolean"
   ]
  },
  {
   "cell_type": "code",
   "execution_count": 10,
   "metadata": {},
   "outputs": [],
   "source": [
    "def replay():\n",
    "    answ=''\n",
    "    while answ.lower != 'yes' or answ.lower != 'no' or answ.lower != 'y' or answ.lower != 'n':\n",
    "        answ = input('You want to play again? ')\n",
    "        if answ.lower()=='yes' or answ.lower()=='y':\n",
    "            return True\n",
    "        elif answ.lower()=='no' or answ.lower()=='n':\n",
    "            return False"
   ]
  },
  {
   "cell_type": "code",
   "execution_count": null,
   "metadata": {},
   "outputs": [],
   "source": [
    "replay()"
   ]
  },
  {
   "cell_type": "code",
   "execution_count": null,
   "metadata": {},
   "outputs": [],
   "source": [
    "#STEP 10: use while loops and the other functions to run the game"
   ]
  },
  {
   "cell_type": "code",
   "execution_count": null,
   "metadata": {},
   "outputs": [
    {
     "name": "stdout",
     "output_type": "stream",
     "text": [
      "O|X|O\n",
      "-----\n",
      "X|O|X\n",
      "-----\n",
      "X|O|O\n",
      "PLAYER 2 HAS WON!\n"
     ]
    }
   ],
   "source": [
    "print('Welcome to Tic TAC TOE')\n",
    "\n",
    "while True:\n",
    "    \n",
    "    #PLAY THE GAME\n",
    "    \n",
    "    #SET EVERYTHING UP (BOARD, WHO FIRST, CHOSE MARKERS X OR O)\n",
    "    the_board=[' ']*10\n",
    "    player1_marker, player2_marker = player_input()\n",
    "    \n",
    "    turn = choose_first()\n",
    "    print(turn + ' will go first')\n",
    "    \n",
    "    play_game = input('Ready to play? y or n?')\n",
    "    if play_game == 'y':\n",
    "        game_on = True\n",
    "    else:\n",
    "        game_on = False\n",
    "    \n",
    "    #GAME PLAY\n",
    "    \n",
    "    while game_on:\n",
    "        \n",
    "        \n",
    "    #PLAYER 1 TURN\n",
    "    \n",
    "        if turn == 'Player 1':\n",
    "            #show board\n",
    "            display_board(the_board)\n",
    "            #chose a position\n",
    "            position = player_choice(the_board)\n",
    "            #place a marker in a position\n",
    "            place_marker(the_board,player1_marker,position)\n",
    "            #check if they won\n",
    "            if win_check(the_board,player1_marker):\n",
    "                display_board(the_board)\n",
    "                print('PLAYER 1 HAS WON!')\n",
    "                game_on = False\n",
    "            #check for a tie(when the board is full but no one has won)\n",
    "            else: \n",
    "                if full_board_check(the_board):\n",
    "                    display_board(the_board)\n",
    "                    print('TIE GAME!')\n",
    "                    game_on = False\n",
    "                #no tie and no win? Then next player's turn\n",
    "                else:\n",
    "                    turn = 'Player 2'\n",
    "            \n",
    "    #PLAYER 2 TURN\n",
    "        else:\n",
    "    #show board\n",
    "            display_board(the_board)\n",
    "            #chose a position\n",
    "            position = player_choice(the_board)\n",
    "            #place a marker in a position\n",
    "            place_marker(the_board,player2_marker,position)\n",
    "            #check if they won\n",
    "            if win_check(the_board,player2_marker):\n",
    "                display_board(the_board)\n",
    "                print('PLAYER 2 HAS WON!')\n",
    "                game_on = False\n",
    "            #check for a tie(when the board is full but no one has won)\n",
    "            else: \n",
    "                if full_board_check(the_board):\n",
    "                    display_board(the_board)\n",
    "                    print('TIE GAME!')\n",
    "                    game_on = False\n",
    "                else:\n",
    "                    turn = 'Player 1'\n",
    "    \n",
    "    if not replay():\n",
    "        break"
   ]
  },
  {
   "cell_type": "code",
   "execution_count": null,
   "metadata": {},
   "outputs": [],
   "source": []
  }
 ],
 "metadata": {
  "kernelspec": {
   "display_name": "Python 3",
   "language": "python",
   "name": "python3"
  },
  "language_info": {
   "codemirror_mode": {
    "name": "ipython",
    "version": 3
   },
   "file_extension": ".py",
   "mimetype": "text/x-python",
   "name": "python",
   "nbconvert_exporter": "python",
   "pygments_lexer": "ipython3",
   "version": "3.7.3"
  }
 },
 "nbformat": 4,
 "nbformat_minor": 2
}
